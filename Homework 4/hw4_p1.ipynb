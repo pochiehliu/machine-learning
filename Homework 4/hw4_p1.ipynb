{
 "cells": [
  {
   "cell_type": "code",
   "execution_count": 1,
   "metadata": {},
   "outputs": [],
   "source": [
    "# packages\n",
    "import numpy as np\n",
    "import pandas as pd\n",
    "import matplotlib.pyplot as plt\n",
    "import seaborn as sns\n",
    "from scipy.sparse.linalg import eigs"
   ]
  },
  {
   "cell_type": "code",
   "execution_count": 2,
   "metadata": {},
   "outputs": [],
   "source": [
    "class team_markov():\n",
    "    \n",
    "    def __init__(self):\n",
    "        # read record file\n",
    "        df = pd.read_csv('CFB2018_scores.csv',\n",
    "                         header = None,\n",
    "                         names = ['A_index', 'A_points', 'B_index', 'B_points'])\n",
    "        # read team name\n",
    "        self.df_team = pd.read_csv('TeamNames.txt', header = None)\n",
    "        \n",
    "        # markov matrix\n",
    "        self.initialize(df)\n",
    "        \n",
    "        # eigen vector\n",
    "        self.inf_state()\n",
    "\n",
    "    def initialize(self, df):\n",
    "        # initiate\n",
    "        self.M = np.zeros((767,767))        \n",
    "        \n",
    "        # markov\n",
    "        for row in range(df.shape[0]):\n",
    "            i, a, j, b = df.iloc[row,:]\n",
    "            i, j = i-1, j-1\n",
    "            ab = a/(a+b)\n",
    "            aw = int(a>b)\n",
    "            self.M[i,i] += (aw + ab)\n",
    "            self.M[j,j] += (1-aw + 1-ab)\n",
    "            self.M[i,j] += (1-aw + 1-ab)\n",
    "            self.M[j,i] += (aw + ab)\n",
    "        self.M = np.divide(self.M, np.sum(self.M, axis = 1).reshape(-1,1))\n",
    "        \n",
    "    def inf_state(self):\n",
    "        self.u, self.v = np.linalg.eig(self.M.T)\n",
    "        self.w_inf = np.real(self.v[:, np.argmax(self.u)])\n",
    "        self.w_inf = self.w_inf / np.sum(self.w_inf)\n",
    "        \n",
    "    def random_walk(self):\n",
    "        # initialize w_0, uniform\n",
    "        w = np.ones(767) / 767\n",
    "        self.w_rec = {}\n",
    "        self.w_name = {}\n",
    "        self.diff = np.zeros(10000)\n",
    "        \n",
    "        # iterations\n",
    "        for i in range(1, 10001):\n",
    "            w = w.dot(self.M)\n",
    "            self.diff[i-1] = np.sum(np.abs(w-self.w_inf))\n",
    "            if i in [10, 100, 1000, 10000]:\n",
    "                idx = np.argsort(w)[::-1][:25]\n",
    "                self.w_rec[str(i)] = w[idx]\n",
    "                self.w_name[str(i)] = self.df_team.iloc[idx].values.reshape(25,)"
   ]
  },
  {
   "cell_type": "code",
   "execution_count": 3,
   "metadata": {},
   "outputs": [],
   "source": [
    "p1 = team_markov()"
   ]
  },
  {
   "cell_type": "code",
   "execution_count": 4,
   "metadata": {},
   "outputs": [],
   "source": [
    "p1.random_walk()"
   ]
  },
  {
   "cell_type": "code",
   "execution_count": 5,
   "metadata": {},
   "outputs": [],
   "source": [
    "pd.DataFrame(p1.w_rec).add_prefix('wt at t = ').to_csv('p1a1.csv')"
   ]
  },
  {
   "cell_type": "code",
   "execution_count": 6,
   "metadata": {},
   "outputs": [],
   "source": [
    "pd.DataFrame(p1.w_name).add_prefix('Top 25 teams at t = ').to_csv('p1a2.csv')"
   ]
  },
  {
   "cell_type": "code",
   "execution_count": 7,
   "metadata": {},
   "outputs": [
    {
     "data": {
      "image/png": "[encoded data removed]",
      "text/plain": [
       "<Figure size 576x432 with 1 Axes>"
      ]
     },
     "metadata": {
      "needs_background": "light"
     },
     "output_type": "display_data"
    }
   ],
   "source": [
    "_ = plt.figure(figsize=(8,6))\n",
    "_ = sns.lineplot(y = p1.diff, x = range(1, p1.diff.shape[0]+1))\n",
    "_ = plt.title('$w_t$ vs $w_\\infty$')\n",
    "_ = plt.xlabel('Iteration')\n",
    "_ = plt.ylabel('$||w_t - w_\\infty||_1$')\n",
    "_ = plt.savefig('p1b.png')"
   ]
  },
  {
   "cell_type": "code",
   "execution_count": null,
   "metadata": {},
   "outputs": [],
   "source": []
  },
  {
   "cell_type": "code",
   "execution_count": null,
   "metadata": {},
   "outputs": [],
   "source": []
  },
  {
   "cell_type": "code",
   "execution_count": null,
   "metadata": {},
   "outputs": [],
   "source": []
  }
 ],
 "metadata": {
  "kernelspec": {
   "display_name": "tf_env",
   "language": "python",
   "name": "tf_env"
  },
  "language_info": {
   "codemirror_mode": {
    "name": "ipython",
    "version": 3
   },
   "file_extension": ".py",
   "mimetype": "text/x-python",
   "name": "python",
   "nbconvert_exporter": "python",
   "pygments_lexer": "ipython3",
   "version": "3.7.3"
  }
 },
 "nbformat": 4,
 "nbformat_minor": 2
}
