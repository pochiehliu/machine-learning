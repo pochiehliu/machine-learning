{
 "cells": [
  {
   "cell_type": "code",
   "execution_count": 1,
   "metadata": {},
   "outputs": [],
   "source": [
    "import numpy as np\n",
    "import pandas as pd\n",
    "import matplotlib.pyplot as plt\n",
    "import seaborn as sns"
   ]
  },
  {
   "cell_type": "code",
   "execution_count": 2,
   "metadata": {},
   "outputs": [],
   "source": [
    "# problem 3"
   ]
  },
  {
   "cell_type": "code",
   "execution_count": 3,
   "metadata": {},
   "outputs": [],
   "source": [
    "class MF():\n",
    "    def __init__(self):\n",
    "        # given parameter\n",
    "        self.var = 0.25\n",
    "        self.d = 10\n",
    "        self.lamb = 1\n",
    "        self.iter = 100\n",
    "        # import data\n",
    "        self.import_data()\n",
    "        \n",
    "    def import_data(self):\n",
    "        # import data\n",
    "        rating = pd.read_csv('Prob3_ratings.csv', header = None,\n",
    "                             names = ['user_id','movie_id','rating'])\n",
    "        \n",
    "        # import test data\n",
    "        rating_test = pd.read_csv('Prob3_ratings.csv', header = None, \n",
    "                                  names = ['user_id','movie_id','rating'])\n",
    "        \n",
    "        # extract number of user and movies\n",
    "        self.N1, self.N2 = rating.user_id.max(), rating.movie_id.max()\n",
    "        \n",
    "        # construct M matrix\n",
    "        self.M = np.ndarray((self.N1,self.N2))\n",
    "        self.M[:] = np.nan\n",
    "        self.M[rating.user_id.values - 1, \n",
    "               rating.movie_id.values - 1] = rating.rating.values\n",
    "        \n",
    "        # construct M_test matrix\n",
    "        self.M_t = np.ndarray((self.N1,self.N2))\n",
    "        self.M_t[:] = np.nan\n",
    "        self.M_t[rating_test.user_id.values - 1, \n",
    "                 rating_test.movie_id.values - 1] = rating_test.rating.values\n",
    "        \n",
    "        # extract observed index\n",
    "        self.ob_ind = ~np.isnan(self.M)\n",
    "        self.ob_ind_t = ~np.isnan(self.M_t)\n",
    "        \n",
    "        # N1 * N2 - missing cells - # of data = 0\n",
    "        assert (int(self.N1 * self.N2) - \n",
    "                np.isnan(self.M).sum() - rating.shape[0]) == 0\n",
    "        \n",
    "    def P_MF(self):\n",
    "        # factorized user\n",
    "        self.user = np.ndarray((self.N1, self.d))\n",
    "        self.user[:] = np.nan\n",
    "        \n",
    "        # factorized movie with initial value\n",
    "        self.movie = np.random.multivariate_normal(\n",
    "            np.zeros(self.d), np.identity(self.d)/self.lamb, self.N2).T\n",
    "        \n",
    "        # ovjective function\n",
    "        self.obj = np.ndarray(self.iter)\n",
    "        self.obj[:] = np.nan\n",
    "        \n",
    "        # update user location\n",
    "        for i in range(self.iter):\n",
    "            self.update_user()\n",
    "            self.update_loc()\n",
    "            self.score(i)\n",
    "            \n",
    "        self.error()\n",
    "    \n",
    "    def update_user(self):\n",
    "        for i in range(self.N1):\n",
    "            tmp_m = self.movie[:, self.ob_ind[i,:] ] \n",
    "            tmp_M = self.M[i, self.ob_ind[i,:]] \n",
    "            self.user[i,:] = np.linalg.inv( \n",
    "                self.lamb * self.var * np.identity(self.d) +\n",
    "                tmp_m.dot(tmp_m.T) ).dot(tmp_m.dot(tmp_M.T))\n",
    "        \n",
    "    def update_loc(self):\n",
    "        for j in range(self.N2):\n",
    "            tmp_u = self.user[self.ob_ind[:,j],:]\n",
    "            tmp_M = self.M[self.ob_ind[:,j],j]\n",
    "            self.movie[:,j] = np.linalg.inv( \n",
    "                self.lamb * self.var * np.identity(self.d) + \n",
    "                tmp_u.T.dot(tmp_u)).dot(tmp_u.T.dot(tmp_M.T))\n",
    "            \n",
    "    def score(self,i):\n",
    "        M_est = self.user.dot(self.movie)\n",
    "        self.obj[i] = - np.sum((self.M[self.ob_ind] - M_est[self.ob_ind])**2)/2/self.var\n",
    "        self.obj[i] -= np.sum(np.einsum('ij,ij->i', self.user, self.user))*self.lamb/2\n",
    "        self.obj[i] -= np.sum(np.einsum('ij,ij->i', self.movie, self.movie))*self.lamb/2\n",
    "        \n",
    "    def error(self):\n",
    "        M_est = self.user.dot(self.movie)\n",
    "        self.rmse = np.sqrt(\n",
    "            np.sum((self.M_t[self.ob_ind_t] - M_est[self.ob_ind_t])**2) / \n",
    "            np.sum(self.ob_ind_t))"
   ]
  },
  {
   "cell_type": "code",
   "execution_count": 4,
   "metadata": {},
   "outputs": [],
   "source": [
    "mf = {}\n",
    "for i in range(10):\n",
    "    #print('run ' + str(i))\n",
    "    mf[i] = MF()\n",
    "    mf[i].P_MF()"
   ]
  },
  {
   "cell_type": "code",
   "execution_count": 5,
   "metadata": {},
   "outputs": [],
   "source": [
    "obj = np.ndarray((10, 99))\n",
    "rmse = np.ndarray(10)\n",
    "for i in range(10):\n",
    "    obj[i,:] = mf[i].obj[1:]\n",
    "    rmse[i] = mf[i].rmse"
   ]
  },
  {
   "cell_type": "code",
   "execution_count": 6,
   "metadata": {},
   "outputs": [
    {
     "data": {
      "image/png": "[encoded data removed]",
      "text/plain": [
       "<Figure size 576x432 with 1 Axes>"
      ]
     },
     "metadata": {
      "needs_background": "light"
     },
     "output_type": "display_data"
    }
   ],
   "source": [
    "plt.figure(figsize=(8, 6))\n",
    "for i in range(10):\n",
    "    sns.lineplot(x= range(2,101), y = obj[i,:], label = 'run ' + str(i+1))\n",
    "_ = plt.xlabel('Iteration')\n",
    "_ = plt.ylabel('Objective function values')\n",
    "_ = plt.title('Objective Function Values vs. Iteration')"
   ]
  },
  {
   "cell_type": "code",
   "execution_count": 7,
   "metadata": {},
   "outputs": [
    {
     "data": {
      "text/html": [
       "<div>\n",
       "<style scoped>\n",
       "    .dataframe tbody tr th:only-of-type {\n",
       "        vertical-align: middle;\n",
       "    }\n",
       "\n",
       "    .dataframe tbody tr th {\n",
       "        vertical-align: top;\n",
       "    }\n",
       "\n",
       "    .dataframe thead th {\n",
       "        text-align: right;\n",
       "    }\n",
       "</style>\n",
       "<table border=\"1\" class=\"dataframe\">\n",
       "  <thead>\n",
       "    <tr style=\"text-align: right;\">\n",
       "      <th></th>\n",
       "      <th>run #</th>\n",
       "      <th>Obj Value</th>\n",
       "      <th>RMSE</th>\n",
       "      <th>Rank</th>\n",
       "    </tr>\n",
       "  </thead>\n",
       "  <tbody>\n",
       "    <tr>\n",
       "      <th>8</th>\n",
       "      <td>9.0</td>\n",
       "      <td>-90823.847291</td>\n",
       "      <td>0.673369</td>\n",
       "      <td>1.0</td>\n",
       "    </tr>\n",
       "    <tr>\n",
       "      <th>7</th>\n",
       "      <td>8.0</td>\n",
       "      <td>-90976.999659</td>\n",
       "      <td>0.673904</td>\n",
       "      <td>2.0</td>\n",
       "    </tr>\n",
       "    <tr>\n",
       "      <th>1</th>\n",
       "      <td>2.0</td>\n",
       "      <td>-90977.862889</td>\n",
       "      <td>0.673725</td>\n",
       "      <td>3.0</td>\n",
       "    </tr>\n",
       "    <tr>\n",
       "      <th>2</th>\n",
       "      <td>3.0</td>\n",
       "      <td>-90978.237375</td>\n",
       "      <td>0.674018</td>\n",
       "      <td>4.0</td>\n",
       "    </tr>\n",
       "    <tr>\n",
       "      <th>0</th>\n",
       "      <td>1.0</td>\n",
       "      <td>-91084.361586</td>\n",
       "      <td>0.674189</td>\n",
       "      <td>5.0</td>\n",
       "    </tr>\n",
       "    <tr>\n",
       "      <th>3</th>\n",
       "      <td>4.0</td>\n",
       "      <td>-91141.527197</td>\n",
       "      <td>0.674347</td>\n",
       "      <td>6.0</td>\n",
       "    </tr>\n",
       "    <tr>\n",
       "      <th>5</th>\n",
       "      <td>6.0</td>\n",
       "      <td>-91168.019391</td>\n",
       "      <td>0.674507</td>\n",
       "      <td>7.0</td>\n",
       "    </tr>\n",
       "    <tr>\n",
       "      <th>6</th>\n",
       "      <td>7.0</td>\n",
       "      <td>-91173.025091</td>\n",
       "      <td>0.674398</td>\n",
       "      <td>8.0</td>\n",
       "    </tr>\n",
       "    <tr>\n",
       "      <th>9</th>\n",
       "      <td>10.0</td>\n",
       "      <td>-91261.485445</td>\n",
       "      <td>0.674695</td>\n",
       "      <td>9.0</td>\n",
       "    </tr>\n",
       "    <tr>\n",
       "      <th>4</th>\n",
       "      <td>5.0</td>\n",
       "      <td>-91288.965396</td>\n",
       "      <td>0.674875</td>\n",
       "      <td>10.0</td>\n",
       "    </tr>\n",
       "  </tbody>\n",
       "</table>\n",
       "</div>"
      ],
      "text/plain": [
       "   run #     Obj Value      RMSE  Rank\n",
       "8    9.0 -90823.847291  0.673369   1.0\n",
       "7    8.0 -90976.999659  0.673904   2.0\n",
       "1    2.0 -90977.862889  0.673725   3.0\n",
       "2    3.0 -90978.237375  0.674018   4.0\n",
       "0    1.0 -91084.361586  0.674189   5.0\n",
       "3    4.0 -91141.527197  0.674347   6.0\n",
       "5    6.0 -91168.019391  0.674507   7.0\n",
       "6    7.0 -91173.025091  0.674398   8.0\n",
       "9   10.0 -91261.485445  0.674695   9.0\n",
       "4    5.0 -91288.965396  0.674875  10.0"
      ]
     },
     "execution_count": 7,
     "metadata": {},
     "output_type": "execute_result"
    }
   ],
   "source": [
    "result = np.ndarray((10, 3))\n",
    "for i in range(10):\n",
    "    result[i,:] = int(i+1), mf[i].obj[-1], mf[i].rmse\n",
    "result = pd.DataFrame(result, columns = ['run #', 'Obj Value', 'RMSE'])\n",
    "result['Rank'] = result['Obj Value'].rank(ascending=False)\n",
    "result.sort_values(\"Rank\", inplace = True) \n",
    "result"
   ]
  },
  {
   "cell_type": "code",
   "execution_count": 8,
   "metadata": {},
   "outputs": [],
   "source": [
    "# proble 3b"
   ]
  },
  {
   "cell_type": "code",
   "execution_count": 9,
   "metadata": {},
   "outputs": [],
   "source": [
    "# read movie names\n",
    "names = pd.read_csv('Prob3_movies.txt', \n",
    "                    header=None, sep = '\\n', \n",
    "                    names = ['name'])\n",
    "# set movie names\n",
    "movies = 'Star Wars|My Fair Lady|GoodFellas'\n",
    "# extract index\n",
    "ind = names[names.name.str.contains(movies)].index"
   ]
  },
  {
   "cell_type": "code",
   "execution_count": 10,
   "metadata": {},
   "outputs": [],
   "source": [
    "# extract best model's v matrix\n",
    "v_matrix = mf[result.index[0]].movie.T"
   ]
  },
  {
   "cell_type": "code",
   "execution_count": 11,
   "metadata": {},
   "outputs": [],
   "source": [
    "similar_table={}\n",
    "for i in range(3):\n",
    "    diff = v_matrix - v_matrix[ind[i]]\n",
    "    dis_list = pd.DataFrame(np.einsum('ij,ij->i', diff, diff), columns=['Distance'])\n",
    "    similar = dis_list.sort_values('Distance').head(11)\n",
    "    similar['Name'] = names.iloc[similar.index]\n",
    "    similar_table[i] = pd.DataFrame(similar)"
   ]
  },
  {
   "cell_type": "code",
   "execution_count": 15,
   "metadata": {},
   "outputs": [
    {
     "name": "stdout",
     "output_type": "stream",
     "text": [
      "      Distance                                       Name\n",
      "49    0.000000                           Star Wars (1977)\n",
      "171   0.099517            Empire Strikes Back, The (1980)\n",
      "173   0.254445             Raiders of the Lost Ark (1981)\n",
      "180   0.405606                  Return of the Jedi (1983)\n",
      "172   0.618292                 Princess Bride, The (1987)\n",
      "428   0.704261      Day the Earth Stood Still, The (1951)\n",
      "612   0.779787                      My Man Godfrey (1936)\n",
      "209   0.786532  Indiana Jones and the Last Crusade (1989)\n",
      "193   0.809872                          Sting, The (1973)\n",
      "1006  0.853839                 Waiting for Guffman (1996)\n",
      "152   0.857303                Fish Called Wanda, A (1988)\n"
     ]
    }
   ],
   "source": [
    "print(similar_table[0])"
   ]
  },
  {
   "cell_type": "code",
   "execution_count": 16,
   "metadata": {},
   "outputs": [
    {
     "name": "stdout",
     "output_type": "stream",
     "text": [
      "     Distance                                    Name\n",
      "181  0.000000                       GoodFellas (1990)\n",
      "692  0.317113                           Casino (1995)\n",
      "187  0.414579                Full Metal Jacket (1987)\n",
      "176  0.514571  Good, The Bad and The Ugly, The (1966)\n",
      "55   0.796721                     Pulp Fiction (1994)\n",
      "645  0.809231     Once Upon a Time in the West (1969)\n",
      "182  0.810928                            Alien (1979)\n",
      "522  0.913397                   Cool Hand Luke (1967)\n",
      "503  1.031519                 Bonnie and Clyde (1967)\n",
      "184  1.032881                           Psycho (1960)\n",
      "186  1.036880          Godfather: Part II, The (1974)\n"
     ]
    }
   ],
   "source": [
    "print(similar_table[1])"
   ]
  },
  {
   "cell_type": "code",
   "execution_count": 17,
   "metadata": {},
   "outputs": [
    {
     "name": "stdout",
     "output_type": "stream",
     "text": [
      "      Distance                                          Name\n",
      "484   0.000000                           My Fair Lady (1964)\n",
      "418   0.494611                           Mary Poppins (1964)\n",
      "98    0.792115        Snow White and the Seven Dwarfs (1937)\n",
      "417   0.868884                             Cinderella (1950)\n",
      "419   0.898732                    Alice in Wonderland (1951)\n",
      "142   0.899821                    Sound of Music, The (1965)\n",
      "968   0.904088   Winnie the Pooh and the Blustery Day (1968)\n",
      "1146  0.961298                              My Family (1995)\n",
      "431   1.008023                               Fantasia (1940)\n",
      "601   1.031740                  American in Paris, An (1951)\n",
      "150   1.144325  Willy Wonka and the Chocolate Factory (1971)\n"
     ]
    }
   ],
   "source": [
    "print(similar_table[2])"
   ]
  },
  {
   "cell_type": "code",
   "execution_count": null,
   "metadata": {},
   "outputs": [],
   "source": []
  },
  {
   "cell_type": "code",
   "execution_count": null,
   "metadata": {},
   "outputs": [],
   "source": []
  },
  {
   "cell_type": "code",
   "execution_count": null,
   "metadata": {},
   "outputs": [],
   "source": []
  },
  {
   "cell_type": "code",
   "execution_count": null,
   "metadata": {},
   "outputs": [],
   "source": []
  },
  {
   "cell_type": "code",
   "execution_count": null,
   "metadata": {},
   "outputs": [],
   "source": []
  }
 ],
 "metadata": {
  "kernelspec": {
   "display_name": "AML",
   "language": "python",
   "name": "aml"
  },
  "language_info": {
   "codemirror_mode": {
    "name": "ipython",
    "version": 3
   },
   "file_extension": ".py",
   "mimetype": "text/x-python",
   "name": "python",
   "nbconvert_exporter": "python",
   "pygments_lexer": "ipython3",
   "version": "3.7.2"
  }
 },
 "nbformat": 4,
 "nbformat_minor": 2
}
