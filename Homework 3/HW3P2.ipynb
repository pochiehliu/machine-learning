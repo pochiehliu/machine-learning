{
 "cells": [
  {
   "cell_type": "code",
   "execution_count": 71,
   "metadata": {},
   "outputs": [],
   "source": [
    "import numpy as np\n",
    "import pandas as pd\n",
    "import matplotlib.pyplot as plt\n",
    "import seaborn as sns\n",
    "from scipy.stats import multivariate_normal as mvn"
   ]
  },
  {
   "cell_type": "code",
   "execution_count": 72,
   "metadata": {},
   "outputs": [],
   "source": [
    "# problem 2"
   ]
  },
  {
   "cell_type": "code",
   "execution_count": 104,
   "metadata": {},
   "outputs": [],
   "source": [
    "class EM_GMM:\n",
    "    \n",
    "    def __init__(self, X, k = 3):\n",
    "        # read file\n",
    "        self.X = X\n",
    "        self.k = k\n",
    "        \n",
    "        # number of data (m) and feature (n)\n",
    "        self.m, self.n = self.X.shape\n",
    "        \n",
    "        # initial\n",
    "        self.initial_condition()\n",
    "    \n",
    "    def initial_condition(self):\n",
    "        # extract sample mean and cov\n",
    "        mean = np.mean(self.X, axis = 0)\n",
    "        cov = np.cov(self.X, rowvar = False)\n",
    "                \n",
    "        # random generate mean, using multivariate normal with sample mean and cov\n",
    "        self.mean = np.random.multivariate_normal(mean, cov, self.k)\n",
    "        assert self.mean.shape == (self.k, self.n)\n",
    "        \n",
    "        # use overall variacne as initial cov\n",
    "        self.cov = {}\n",
    "        for i in range(self.k):\n",
    "            self.cov[i] = cov # dimension n * n\n",
    "            \n",
    "        # Initialize the mixing weights to be uniform.\n",
    "        self.pi = np.ones(self.k)/self.k # dimension n * 1\n",
    "        \n",
    "    def E_M(self, iter_ = 30):\n",
    "        self.obj = np.ndarray(iter_)\n",
    "        # initiate phi matrix with dimension m * k\n",
    "        self.phi = np.zeros((self.m, self.k))\n",
    "        \n",
    "        # iterate E & M steps\n",
    "        for i in range(iter_):\n",
    "            self.E_step()\n",
    "            self.M_step()\n",
    "            self.obj[i] = self.cal_obj()\n",
    "\n",
    "    def E_step(self):\n",
    "        pdf = np.zeros((self.m, self.k))\n",
    "        for idx in range(self.k):\n",
    "            # gaussian part\n",
    "            pdf[:,idx] = self.gaussian(self.X, idx)\n",
    "            # multiply pi\n",
    "            pdf[:,idx] *= self.pi[idx]\n",
    "        # normalize each row\n",
    "        self.phi = pdf / np.sum(pdf, axis = 1).reshape(-1,1)\n",
    "        \n",
    "\n",
    "    def M_step(self):\n",
    "        # pre calculate Nk\n",
    "        Nk = np.sum(self.phi, axis = 0)\n",
    "        \n",
    "        # update pi\n",
    "        self.pi = np.mean(self.phi, axis = 0)\n",
    "\n",
    "        # update mean\n",
    "        for idx in range(self.k):\n",
    "            # update mean by class\n",
    "            self.mean[idx] = self.phi[:, idx].dot(self.X) / Nk[idx]\n",
    "            \n",
    "            # update cov\n",
    "            cov_ = np.zeros((self.n, self.n))\n",
    "            mean_diff = self.X - self.mean[idx]\n",
    "            for i in range(self.m):\n",
    "                cov_ += self.phi[i,idx] * np.outer(mean_diff[i,:],mean_diff[i,:])\n",
    "            self.cov[idx] = cov_ / Nk[idx]\n",
    "\n",
    "    def gaussian(self, X, k):\n",
    "        # add 1e-10 to diagonal preventing singular matrix\n",
    "        modify_cov = self.cov[k] + np.eye(self.n) * 1e-10\n",
    "        # use mvn to get pdf\n",
    "        pdf = mvn.pdf(X, mean = self.mean[k], cov = modify_cov)\n",
    "        return pdf\n",
    "\n",
    "    def cal_obj(self):\n",
    "        pdf = np.zeros((self.m, self.k))\n",
    "        for idx in range(self.k):\n",
    "            # gaussian part\n",
    "            pdf[:,idx] = self.gaussian(self.X, idx)\n",
    "            # multiply pi\n",
    "            pdf[:,idx] *= self.pi[idx]\n",
    "        return np.sum(np.log(np.sum(pdf, axis = 1)))"
   ]
  },
  {
   "cell_type": "code",
   "execution_count": 105,
   "metadata": {},
   "outputs": [],
   "source": [
    "# import data\n",
    "X = pd.read_csv('Prob2_Xtrain.csv', header = None).values\n",
    "y = pd.read_csv('Prob2_ytrain.csv', header = None).values\n",
    "X_t = pd.read_csv('Prob2_Xtest.csv', header = None).values\n",
    "y_t = pd.read_csv('Prob2_ytest.csv', header = None).values"
   ]
  },
  {
   "cell_type": "code",
   "execution_count": 106,
   "metadata": {},
   "outputs": [
    {
     "name": "stdout",
     "output_type": "stream",
     "text": [
      "run 1\n",
      "run 2\n",
      "run 3\n",
      "run 4\n",
      "run 5\n",
      "run 6\n",
      "run 7\n",
      "run 8\n",
      "run 9\n",
      "run 10\n"
     ]
    }
   ],
   "source": [
    "# initiate dict for storing\n",
    "class1_prior = {}\n",
    "class0_prior = {}\n",
    "\n",
    "# initiate with 2 different class\n",
    "for i in range(10):\n",
    "    class1_prior[i] = EM_GMM(X[(y==1).reshape(-1,),:])\n",
    "    class0_prior[i] = EM_GMM(X[(y==0).reshape(-1,),:])\n",
    "\n",
    "# run EM for both classes 10 times\n",
    "for i in range(10):\n",
    "    print('run ' + str(i+1))\n",
    "    class1_prior[i].E_M()\n",
    "    class0_prior[i].E_M()"
   ]
  },
  {
   "cell_type": "code",
   "execution_count": 107,
   "metadata": {},
   "outputs": [],
   "source": [
    "# extract objective function value from 5 to 30 iter\n",
    "obj_1 = np.ndarray((10,26))\n",
    "obj_0 = np.ndarray((10,26))\n",
    "\n",
    "for i in range(10):\n",
    "    obj_1[i,:] = class1_prior[i].obj[4:]\n",
    "    obj_0[i,:] = class0_prior[i].obj[4:]"
   ]
  },
  {
   "cell_type": "code",
   "execution_count": 109,
   "metadata": {},
   "outputs": [],
   "source": [
    "def make_plot(obj, title):\n",
    "    plt.figure(figsize=(8, 6))\n",
    "    for i in range(10):\n",
    "        sns.lineplot(x= range(5,31), \n",
    "                 y = obj[i,:], \n",
    "                 label = 'run ' + str(i+1))\n",
    "    _ = plt.xlabel('Iteration')\n",
    "    _ = plt.ylabel('Objective function values')\n",
    "    _ = plt.title(title)\n",
    "    _ = plt.legend(ncol=2)"
   ]
  },
  {
   "cell_type": "code",
   "execution_count": 110,
   "metadata": {},
   "outputs": [
    {
     "data": {
      "image/png": "[encoded data removed]",
      "text/plain": [
       "<Figure size 576x432 with 1 Axes>"
      ]
     },
     "metadata": {
      "needs_background": "light"
     },
     "output_type": "display_data"
    }
   ],
   "source": [
    "make_plot(obj_1, 'Class 1')"
   ]
  },
  {
   "cell_type": "code",
   "execution_count": 112,
   "metadata": {},
   "outputs": [
    {
     "data": {
      "image/png": "[encoded data removed]",
      "text/plain": [
       "<Figure size 576x432 with 1 Axes>"
      ]
     },
     "metadata": {
      "needs_background": "light"
     },
     "output_type": "display_data"
    }
   ],
   "source": [
    "make_plot(obj_0, 'Class 0')"
   ]
  },
  {
   "cell_type": "code",
   "execution_count": 116,
   "metadata": {},
   "outputs": [],
   "source": [
    "# choose best fit based on last objective function value\n",
    "class1_ind = np.argmax(obj_1[:,-1])\n",
    "class0_ind = np.argmax(obj_0[:,-1])"
   ]
  },
  {
   "cell_type": "code",
   "execution_count": 139,
   "metadata": {},
   "outputs": [],
   "source": [
    "# caculate mle\n",
    "mle = np.zeros((X_t.shape[0],2))\n",
    "for i in range(3):\n",
    "    # class 1\n",
    "    mle[:,1] += (class1_prior[class1_ind].pi[i] * \n",
    "        mvn.pdf(X_t, class1_prior[class1_ind].mean[i], class1_prior[class1_ind].cov[i]))\n",
    "    # class 0\n",
    "    mle[:,0] += (class0_prior[class0_ind].pi[i] * \n",
    "        mvn.pdf(X_t, class0_prior[class0_ind].mean[i], class0_prior[class0_ind].cov[i]))\n",
    "# predict based on the mle values\n",
    "Y_pred = pd.Series(np.argmax(mle,axis = 1), name='Predicted')"
   ]
  },
  {
   "cell_type": "code",
   "execution_count": 140,
   "metadata": {},
   "outputs": [
    {
     "data": {
      "text/html": [
       "<div>\n",
       "<style scoped>\n",
       "    .dataframe tbody tr th:only-of-type {\n",
       "        vertical-align: middle;\n",
       "    }\n",
       "\n",
       "    .dataframe tbody tr th {\n",
       "        vertical-align: top;\n",
       "    }\n",
       "\n",
       "    .dataframe thead th {\n",
       "        text-align: right;\n",
       "    }\n",
       "</style>\n",
       "<table border=\"1\" class=\"dataframe\">\n",
       "  <thead>\n",
       "    <tr style=\"text-align: right;\">\n",
       "      <th>Actual</th>\n",
       "      <th>0</th>\n",
       "      <th>1</th>\n",
       "    </tr>\n",
       "    <tr>\n",
       "      <th>Predicted</th>\n",
       "      <th></th>\n",
       "      <th></th>\n",
       "    </tr>\n",
       "  </thead>\n",
       "  <tbody>\n",
       "    <tr>\n",
       "      <th>0</th>\n",
       "      <td>208</td>\n",
       "      <td>10</td>\n",
       "    </tr>\n",
       "    <tr>\n",
       "      <th>1</th>\n",
       "      <td>70</td>\n",
       "      <td>172</td>\n",
       "    </tr>\n",
       "  </tbody>\n",
       "</table>\n",
       "</div>"
      ],
      "text/plain": [
       "Actual       0    1\n",
       "Predicted          \n",
       "0          208   10\n",
       "1           70  172"
      ]
     },
     "execution_count": 140,
     "metadata": {},
     "output_type": "execute_result"
    }
   ],
   "source": [
    "# confusion matrix\n",
    "Y_true = pd.Series(y_t.reshape(-1), name='Actual')\n",
    "pd.crosstab(Y_pred, Y_true)"
   ]
  },
  {
   "cell_type": "code",
   "execution_count": 145,
   "metadata": {},
   "outputs": [
    {
     "name": "stdout",
     "output_type": "stream",
     "text": [
      "accuracy = 82.6086956521739 %\n"
     ]
    }
   ],
   "source": [
    "print('accuracy = ' + str(np.sum(Y_pred == Y_true)/Y_pred.shape[0]*100)+' %')"
   ]
  },
  {
   "cell_type": "code",
   "execution_count": 153,
   "metadata": {},
   "outputs": [
    {
     "name": "stdout",
     "output_type": "stream",
     "text": [
      "1 Gaussian\n",
      "2 Gaussian\n",
      "3 Gaussian\n",
      "4 Gaussian\n"
     ]
    }
   ],
   "source": [
    "# repeat for 1, 2, 3, 4 gaussian\n",
    "# initiate dict for storing\n",
    "K_class1_prior = {}\n",
    "k_class0_prior = {}\n",
    "\n",
    "# initiate with 2 different class\n",
    "for k in range(4):\n",
    "    K_class1_prior[k] = EM_GMM(X[(y==1).reshape(-1,),:], k+1)\n",
    "    k_class0_prior[k] = EM_GMM(X[(y==0).reshape(-1,),:], k+1)\n",
    "\n",
    "# run EM\n",
    "for i in range(4):\n",
    "    print(str(i+1) + ' Gaussian')\n",
    "    K_class1_prior[i].E_M()\n",
    "    k_class0_prior[i].E_M()"
   ]
  },
  {
   "cell_type": "code",
   "execution_count": 157,
   "metadata": {},
   "outputs": [],
   "source": [
    "def precition(prior1, prior0, X_t, Y_true):\n",
    "    mle = np.zeros((X_t.shape[0],2))\n",
    "    for i in range(prior1.k):\n",
    "        # class 1\n",
    "        mle[:,1] += (prior1.pi[i] * \n",
    "            mvn.pdf(X_t, prior1.mean[i], prior1.cov[i]))\n",
    "        # class 0\n",
    "        mle[:,0] += (prior0.pi[i] * \n",
    "            mvn.pdf(X_t, prior0.mean[i], prior0.cov[i]))\n",
    "\n",
    "        # predict based on the mle values\n",
    "    Y_pred = pd.Series(np.argmax(mle,axis = 1), name='Predicted')\n",
    "    print(str(prior1.k) + ' Gaussian')\n",
    "    print(pd.crosstab(Y_pred, Y_true))\n",
    "    print('accuracy = ' + str(np.sum(Y_pred == Y_true)/Y_pred.shape[0]*100)+' %')\n",
    "    print()"
   ]
  },
  {
   "cell_type": "code",
   "execution_count": 158,
   "metadata": {},
   "outputs": [
    {
     "name": "stdout",
     "output_type": "stream",
     "text": [
      "1 Gaussian\n",
      "Actual       0    1\n",
      "Predicted          \n",
      "0          180    6\n",
      "1           98  176\n",
      "accuracy = 77.39130434782608 %\n",
      "\n",
      "2 Gaussian\n",
      "Actual       0    1\n",
      "Predicted          \n",
      "0          191    9\n",
      "1           87  173\n",
      "accuracy = 79.13043478260869 %\n",
      "\n",
      "3 Gaussian\n",
      "Actual       0    1\n",
      "Predicted          \n",
      "0          202    7\n",
      "1           76  175\n",
      "accuracy = 81.95652173913044 %\n",
      "\n",
      "4 Gaussian\n",
      "Actual       0    1\n",
      "Predicted          \n",
      "0          192    5\n",
      "1           86  177\n",
      "accuracy = 80.21739130434783 %\n",
      "\n"
     ]
    }
   ],
   "source": [
    "for i in range(4):\n",
    "    precition(K_class1_prior[i], k_class0_prior[i], X_t, Y_true)"
   ]
  },
  {
   "cell_type": "code",
   "execution_count": null,
   "metadata": {},
   "outputs": [],
   "source": []
  }
 ],
 "metadata": {
  "kernelspec": {
   "display_name": "AML",
   "language": "python",
   "name": "aml"
  },
  "language_info": {
   "codemirror_mode": {
    "name": "ipython",
    "version": 3
   },
   "file_extension": ".py",
   "mimetype": "text/x-python",
   "name": "python",
   "nbconvert_exporter": "python",
   "pygments_lexer": "ipython3",
   "version": "3.7.2"
  }
 },
 "nbformat": 4,
 "nbformat_minor": 2
}
